{
 "cells": [
  {
   "cell_type": "code",
   "execution_count": 1,
   "id": "b709e66c-63ba-430f-bddd-bc8d04816e23",
   "metadata": {},
   "outputs": [
    {
     "name": "stderr",
     "output_type": "stream",
     "text": [
      "/private/home/apratik/.conda/envs/locobot_env/lib/python3.7/site-packages/sklearn/utils/__init__.py:4: DeprecationWarning: Using or importing the ABCs from 'collections' instead of from 'collections.abc' is deprecated, and in 3.8 it will stop working\n",
      "  from collections import Sequence\n",
      "/private/home/apratik/.conda/envs/locobot_env/lib/python3.7/site-packages/ray/autoscaler/_private/cli_logger.py:61: FutureWarning: Not all Ray CLI dependencies were found. In Ray 1.4+, the Ray CLI, autoscaler, and dashboard will only be usable via `pip install 'ray[default]'`. Please update your install command.\n",
      "  \"update your install command.\", FutureWarning)\n"
     ]
    }
   ],
   "source": [
    "from droidlet.perception.robot import LabelPropagate\n",
    "import os\n",
    "import json\n",
    "import sys\n",
    "if \"/opt/ros/kinetic/lib/python2.7/dist-packages\" in sys.path:\n",
    "    sys.path.remove(\"/opt/ros/kinetic/lib/python2.7/dist-packages\")\n",
    "import cv2\n",
    "import numpy as np"
   ]
  },
  {
   "cell_type": "code",
   "execution_count": 13,
   "id": "ed5303f1-9a93-4228-9821-4e8cf6989e85",
   "metadata": {},
   "outputs": [
    {
     "name": "stdout",
     "output_type": "stream",
     "text": [
      "(<class 'numpy.ndarray'>, <class 'numpy.ndarray'>, <class 'numpy.ndarray'>)\n"
     ]
    }
   ],
   "source": [
    "root = '/checkpoint/apratik/finals/default/apartment_0/'\n",
    "\n",
    "def make_data(root, img_indx):\n",
    "    src_img = cv2.imread(os.path.join(root, \"rgb/{:05d}.jpg\".format(img_indx)))\n",
    "    src_depth = np.load(os.path.join(root, \"depth/{:05d}.npy\".format(img_indx)))\n",
    "    src_label = np.load(os.path.join(root, \"seg/{:05d}.npy\".format(img_indx)))\n",
    "    with open(os.path.join(root, \"data.json\"), \"r\") as f:\n",
    "        base_pose_data = json.load(f)\n",
    "    src_pose = base_pose_data[\"{}\".format(img_indx)]\n",
    "    cur_pose = base_pose_data[\"{}\".format(img_indx+1)]\n",
    "    cur_depth = np.load(os.path.join(root, \"depth/{:05d}.npy\".format(img_indx+1)))\n",
    "    print(f'{type(src_img), type(src_depth), type(src_label)}')\n",
    "    # Visualize label\n",
    "    return src_img, src_depth, src_label, src_pose, cur_pose, cur_depth\n",
    "    \n",
    "src_img, src_depth, src_label, src_pose, cur_pose, cur_depth = make_data(root, 1)"
   ]
  },
  {
   "cell_type": "code",
   "execution_count": 14,
   "id": "192c7b44-7cb0-432e-845e-3046fe8e1751",
   "metadata": {},
   "outputs": [],
   "source": [
    "from PIL import Image\n",
    "%matplotlib inline\n",
    "import matplotlib.pyplot as plt\n",
    "\n",
    "from utils import d3_40_colors_rgb\n",
    "\n",
    "def display_sample(semantic1, semantic2):\n",
    "    \n",
    "    arr = []\n",
    "    for semantic_obs in [semantic1, semantic2]:\n",
    "        semantic_img = Image.new(\"P\", (semantic_obs.shape[1], semantic_obs.shape[0]))\n",
    "        semantic_img.putpalette(d3_40_colors_rgb.flatten())\n",
    "        semantic_img.putdata((semantic_obs.flatten() % 40).astype(np.uint8))\n",
    "        semantic_img = semantic_img.convert(\"RGBA\")\n",
    "        arr.append(semantic_img)\n",
    "\n",
    "    titles = ['src', 'propagated']\n",
    "    plt.figure(figsize=(12 ,8))\n",
    "    for i, data in enumerate(arr):\n",
    "        ax = plt.subplot(1, 2, i+1)\n",
    "        ax.axis('off')\n",
    "        ax.set_title(titles[i])\n",
    "        plt.imshow(data)\n",
    "    plt.show()"
   ]
  },
  {
   "cell_type": "code",
   "execution_count": 15,
   "id": "45ad0844-7907-4e94-bf4b-10b198e5f07e",
   "metadata": {},
   "outputs": [],
   "source": [
    "x = LabelPropagate()"
   ]
  },
  {
   "cell_type": "code",
   "execution_count": 16,
   "id": "b8894049-6c9d-42e6-9152-0dd36122d677",
   "metadata": {},
   "outputs": [],
   "source": [
    "label = x(src_img, src_depth, src_label, src_pose, cur_pose, cur_depth)"
   ]
  },
  {
   "cell_type": "code",
   "execution_count": 17,
   "id": "e0f9f844-de5c-4e1d-9447-fcc2f9af3c72",
   "metadata": {},
   "outputs": [
    {
     "data": {
      "image/png": "[encoded data removed]",
      "text/plain": [
       "<Figure size 864x576 with 2 Axes>"
      ]
     },
     "metadata": {
      "needs_background": "light"
     },
     "output_type": "display_data"
    }
   ],
   "source": [
    "display_sample(label, src_label)"
   ]
  },
  {
   "cell_type": "code",
   "execution_count": 12,
   "id": "090b33fe-7e52-4a15-8bd7-49ed3bdb577f",
   "metadata": {},
   "outputs": [],
   "source": [
    "\n"
   ]
  },
  {
   "cell_type": "code",
   "execution_count": null,
   "id": "03d21fb9-699e-43af-b83b-ef702161777c",
   "metadata": {},
   "outputs": [],
   "source": []
  }
 ],
 "metadata": {
  "kernelspec": {
   "display_name": "loco",
   "language": "python",
   "name": "loco"
  },
  "language_info": {
   "codemirror_mode": {
    "name": "ipython",
    "version": 3
   },
   "file_extension": ".py",
   "mimetype": "text/x-python",
   "name": "python",
   "nbconvert_exporter": "python",
   "pygments_lexer": "ipython3",
   "version": "3.7.4"
  }
 },
 "nbformat": 4,
 "nbformat_minor": 5
}
